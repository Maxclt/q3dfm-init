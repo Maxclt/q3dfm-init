{
 "cells": [
  {
   "cell_type": "code",
   "execution_count": 1,
   "metadata": {},
   "outputs": [],
   "source": [
    "import numpy as np\n",
    "import time\n",
    "\n",
    "from q3dfm.helper_mat import helper_mat"
   ]
  },
  {
   "cell_type": "code",
   "execution_count": 2,
   "metadata": {},
   "outputs": [
    {
     "data": {
      "text/plain": [
       "array([[[nan, nan, nan],\n",
       "        [nan, nan, nan]],\n",
       "\n",
       "       [[nan, nan, nan],\n",
       "        [nan, nan, nan]]])"
      ]
     },
     "execution_count": 2,
     "metadata": {},
     "output_type": "execute_result"
    }
   ],
   "source": [
    "np.full((2, 2, 3), np.nan)"
   ]
  },
  {
   "cell_type": "code",
   "execution_count": 3,
   "metadata": {},
   "outputs": [
    {
     "data": {
      "text/plain": [
       "array([[0.5, 0. , 0.5, 0. ],\n",
       "       [0. , 0.5, 0. , 0.5]])"
      ]
     },
     "execution_count": 3,
     "metadata": {},
     "output_type": "execute_result"
    }
   ],
   "source": [
    "np.kron(np.ones(2) / 2, np.eye(2))"
   ]
  },
  {
   "cell_type": "code",
   "execution_count": 4,
   "metadata": {},
   "outputs": [],
   "source": [
    "H = np.random.rand(5, 4)\n",
    "HJ = np.dot(H[1, :], np.kron(np.ones(30) / 30, np.eye(4)))"
   ]
  },
  {
   "cell_type": "code",
   "execution_count": 5,
   "metadata": {},
   "outputs": [
    {
     "data": {
      "text/plain": [
       "(120,)"
      ]
     },
     "execution_count": 5,
     "metadata": {},
     "output_type": "execute_result"
    }
   ],
   "source": [
    "HJ.shape"
   ]
  },
  {
   "cell_type": "code",
   "execution_count": 11,
   "metadata": {},
   "outputs": [],
   "source": [
    "H = np.ones(2)"
   ]
  },
  {
   "cell_type": "code",
   "execution_count": 14,
   "metadata": {},
   "outputs": [
    {
     "data": {
      "text/plain": [
       "array([[0.5, 0. , 0.5, 0. ],\n",
       "       [0. , 0.5, 0. , 0.5]])"
      ]
     },
     "execution_count": 14,
     "metadata": {},
     "output_type": "execute_result"
    }
   ],
   "source": [
    "J = helper_mat(2, False, 2, 4)\n",
    "J"
   ]
  },
  {
   "cell_type": "code",
   "execution_count": 15,
   "metadata": {},
   "outputs": [
    {
     "data": {
      "text/plain": [
       "array([0.5, 0.5, 0.5, 0.5])"
      ]
     },
     "execution_count": 15,
     "metadata": {},
     "output_type": "execute_result"
    }
   ],
   "source": [
    "H @ J"
   ]
  },
  {
   "cell_type": "code",
   "execution_count": null,
   "metadata": {},
   "outputs": [],
   "source": [
    "np.dot(\n",
    "    H,\n",
    "    np.kron(\n",
    "        np.concatenate([np.arange(1, 2 + 1), np.arange(2 - 1, 0, -1)]) / 2,\n",
    "        np.eye(2),\n",
    "    ),\n",
    ")"
   ]
  },
  {
   "cell_type": "code",
   "execution_count": 16,
   "metadata": {},
   "outputs": [
    {
     "data": {
      "text/plain": [
       "array([0.5, 0.5, 0.5, 0.5])"
      ]
     },
     "execution_count": 16,
     "metadata": {},
     "output_type": "execute_result"
    }
   ],
   "source": [
    "np.dot(\n",
    "    H,\n",
    "    np.kron(\n",
    "        np.ones(2) / 2,\n",
    "        np.eye(2),\n",
    "    ),\n",
    ")"
   ]
  },
  {
   "cell_type": "code",
   "execution_count": 4,
   "metadata": {},
   "outputs": [
    {
     "ename": "ValueError",
     "evalue": "all the input array dimensions except for the concatenation axis must match exactly, but along dimension 1, the array at index 0 has size 5 and the array at index 1 has size 2",
     "output_type": "error",
     "traceback": [
      "\u001b[0;31m---------------------------------------------------------------------------\u001b[0m",
      "\u001b[0;31mValueError\u001b[0m                                Traceback (most recent call last)",
      "Cell \u001b[0;32mIn[4], line 29\u001b[0m\n\u001b[1;32m     26\u001b[0m B \u001b[38;5;241m=\u001b[39m np\u001b[38;5;241m.\u001b[39mrandom\u001b[38;5;241m.\u001b[39mrand(\u001b[38;5;241m3\u001b[39m, \u001b[38;5;241m2\u001b[39m)  \u001b[38;5;66;03m# Random matrix B for testing\u001b[39;00m\n\u001b[1;32m     28\u001b[0m \u001b[38;5;66;03m#A_original = comp_form_original(B)\u001b[39;00m\n\u001b[0;32m---> 29\u001b[0m A_oneliner \u001b[38;5;241m=\u001b[39m \u001b[43mcomp_form_oneliner\u001b[49m\u001b[43m(\u001b[49m\u001b[43mB\u001b[49m\u001b[43m)\u001b[49m\n\u001b[1;32m     31\u001b[0m \u001b[38;5;66;03m# Test if both methods return the same matrix\u001b[39;00m\n\u001b[1;32m     32\u001b[0m \u001b[38;5;28;01mif\u001b[39;00m np\u001b[38;5;241m.\u001b[39mallclose(A_original, A_oneliner):\n",
      "Cell \u001b[0;32mIn[4], line 17\u001b[0m, in \u001b[0;36mcomp_form_oneliner\u001b[0;34m(B)\u001b[0m\n\u001b[1;32m     16\u001b[0m \u001b[38;5;28;01mdef\u001b[39;00m \u001b[38;5;21mcomp_form_oneliner\u001b[39m(B):\n\u001b[0;32m---> 17\u001b[0m     \u001b[38;5;28;01mreturn\u001b[39;00m \u001b[43mnp\u001b[49m\u001b[38;5;241;43m.\u001b[39;49m\u001b[43mblock\u001b[49m\u001b[43m(\u001b[49m\n\u001b[1;32m     18\u001b[0m \u001b[43m        \u001b[49m\u001b[43m[\u001b[49m\n\u001b[1;32m     19\u001b[0m \u001b[43m            \u001b[49m\u001b[43m[\u001b[49m\u001b[43mB\u001b[49m\u001b[43m]\u001b[49m\u001b[43m \u001b[49m\u001b[38;5;241;43m+\u001b[39;49m\u001b[43m \u001b[49m\u001b[43m[\u001b[49m\u001b[43mnp\u001b[49m\u001b[38;5;241;43m.\u001b[39;49m\u001b[43meye\u001b[49m\u001b[43m(\u001b[49m\u001b[43mB\u001b[49m\u001b[38;5;241;43m.\u001b[39;49m\u001b[43mshape\u001b[49m\u001b[43m[\u001b[49m\u001b[38;5;241;43m0\u001b[39;49m\u001b[43m]\u001b[49m\u001b[43m)\u001b[49m\u001b[43m]\u001b[49m\u001b[43m \u001b[49m\u001b[38;5;241;43m*\u001b[39;49m\u001b[43m \u001b[49m\u001b[43m(\u001b[49m\u001b[43mB\u001b[49m\u001b[38;5;241;43m.\u001b[39;49m\u001b[43mshape\u001b[49m\u001b[43m[\u001b[49m\u001b[38;5;241;43m1\u001b[39;49m\u001b[43m]\u001b[49m\u001b[43m \u001b[49m\u001b[38;5;241;43m-\u001b[39;49m\u001b[43m \u001b[49m\u001b[38;5;241;43m1\u001b[39;49m\u001b[43m)\u001b[49m\u001b[43m,\u001b[49m\n\u001b[1;32m     20\u001b[0m \u001b[43m            \u001b[49m\u001b[43m[\u001b[49m\u001b[43mnp\u001b[49m\u001b[38;5;241;43m.\u001b[39;49m\u001b[43mzeros\u001b[49m\u001b[43m(\u001b[49m\u001b[43m(\u001b[49m\u001b[43mB\u001b[49m\u001b[38;5;241;43m.\u001b[39;49m\u001b[43mshape\u001b[49m\u001b[43m[\u001b[49m\u001b[38;5;241;43m0\u001b[39;49m\u001b[43m]\u001b[49m\u001b[43m \u001b[49m\u001b[38;5;241;43m*\u001b[39;49m\u001b[43m \u001b[49m\u001b[43m(\u001b[49m\u001b[43mB\u001b[49m\u001b[38;5;241;43m.\u001b[39;49m\u001b[43mshape\u001b[49m\u001b[43m[\u001b[49m\u001b[38;5;241;43m1\u001b[39;49m\u001b[43m]\u001b[49m\u001b[43m \u001b[49m\u001b[38;5;241;43m-\u001b[39;49m\u001b[43m \u001b[49m\u001b[38;5;241;43m1\u001b[39;49m\u001b[43m)\u001b[49m\u001b[43m,\u001b[49m\u001b[43m \u001b[49m\u001b[43mB\u001b[49m\u001b[38;5;241;43m.\u001b[39;49m\u001b[43mshape\u001b[49m\u001b[43m[\u001b[49m\u001b[38;5;241;43m1\u001b[39;49m\u001b[43m]\u001b[49m\u001b[43m)\u001b[49m\u001b[43m)\u001b[49m\u001b[43m]\u001b[49m\u001b[43m,\u001b[49m\n\u001b[1;32m     21\u001b[0m \u001b[43m        \u001b[49m\u001b[43m]\u001b[49m\n\u001b[1;32m     22\u001b[0m \u001b[43m    \u001b[49m\u001b[43m)\u001b[49m\n",
      "File \u001b[0;32m~/Library/Caches/pypoetry/virtualenvs/q3dfm-qBe0P07J-py3.9/lib/python3.9/site-packages/numpy/_core/shape_base.py:872\u001b[0m, in \u001b[0;36mblock\u001b[0;34m(arrays)\u001b[0m\n\u001b[1;32m    870\u001b[0m     \u001b[38;5;28;01mreturn\u001b[39;00m _block_slicing(arrays, list_ndim, result_ndim)\n\u001b[1;32m    871\u001b[0m \u001b[38;5;28;01melse\u001b[39;00m:\n\u001b[0;32m--> 872\u001b[0m     \u001b[38;5;28;01mreturn\u001b[39;00m \u001b[43m_block_concatenate\u001b[49m\u001b[43m(\u001b[49m\u001b[43marrays\u001b[49m\u001b[43m,\u001b[49m\u001b[43m \u001b[49m\u001b[43mlist_ndim\u001b[49m\u001b[43m,\u001b[49m\u001b[43m \u001b[49m\u001b[43mresult_ndim\u001b[49m\u001b[43m)\u001b[49m\n",
      "File \u001b[0;32m~/Library/Caches/pypoetry/virtualenvs/q3dfm-qBe0P07J-py3.9/lib/python3.9/site-packages/numpy/_core/shape_base.py:916\u001b[0m, in \u001b[0;36m_block_concatenate\u001b[0;34m(arrays, list_ndim, result_ndim)\u001b[0m\n\u001b[1;32m    915\u001b[0m \u001b[38;5;28;01mdef\u001b[39;00m \u001b[38;5;21m_block_concatenate\u001b[39m(arrays, list_ndim, result_ndim):\n\u001b[0;32m--> 916\u001b[0m     result \u001b[38;5;241m=\u001b[39m \u001b[43m_block\u001b[49m\u001b[43m(\u001b[49m\u001b[43marrays\u001b[49m\u001b[43m,\u001b[49m\u001b[43m \u001b[49m\u001b[43mlist_ndim\u001b[49m\u001b[43m,\u001b[49m\u001b[43m \u001b[49m\u001b[43mresult_ndim\u001b[49m\u001b[43m)\u001b[49m\n\u001b[1;32m    917\u001b[0m     \u001b[38;5;28;01mif\u001b[39;00m list_ndim \u001b[38;5;241m==\u001b[39m \u001b[38;5;241m0\u001b[39m:\n\u001b[1;32m    918\u001b[0m         \u001b[38;5;66;03m# Catch an edge case where _block returns a view because\u001b[39;00m\n\u001b[1;32m    919\u001b[0m         \u001b[38;5;66;03m# `arrays` is a single numpy array and not a list of numpy arrays.\u001b[39;00m\n\u001b[1;32m    920\u001b[0m         \u001b[38;5;66;03m# This might copy scalars or lists twice, but this isn't a likely\u001b[39;00m\n\u001b[1;32m    921\u001b[0m         \u001b[38;5;66;03m# usecase for those interested in performance\u001b[39;00m\n\u001b[1;32m    922\u001b[0m         result \u001b[38;5;241m=\u001b[39m result\u001b[38;5;241m.\u001b[39mcopy()\n",
      "File \u001b[0;32m~/Library/Caches/pypoetry/virtualenvs/q3dfm-qBe0P07J-py3.9/lib/python3.9/site-packages/numpy/_core/shape_base.py:684\u001b[0m, in \u001b[0;36m_block\u001b[0;34m(arrays, max_depth, result_ndim, depth)\u001b[0m\n\u001b[1;32m    681\u001b[0m \u001b[38;5;28;01mif\u001b[39;00m depth \u001b[38;5;241m<\u001b[39m max_depth:\n\u001b[1;32m    682\u001b[0m     arrs \u001b[38;5;241m=\u001b[39m [_block(arr, max_depth, result_ndim, depth\u001b[38;5;241m+\u001b[39m\u001b[38;5;241m1\u001b[39m)\n\u001b[1;32m    683\u001b[0m             \u001b[38;5;28;01mfor\u001b[39;00m arr \u001b[38;5;129;01min\u001b[39;00m arrays]\n\u001b[0;32m--> 684\u001b[0m     \u001b[38;5;28;01mreturn\u001b[39;00m \u001b[43m_concatenate\u001b[49m\u001b[43m(\u001b[49m\u001b[43marrs\u001b[49m\u001b[43m,\u001b[49m\u001b[43m \u001b[49m\u001b[43maxis\u001b[49m\u001b[38;5;241;43m=\u001b[39;49m\u001b[38;5;241;43m-\u001b[39;49m\u001b[43m(\u001b[49m\u001b[43mmax_depth\u001b[49m\u001b[38;5;241;43m-\u001b[39;49m\u001b[43mdepth\u001b[49m\u001b[43m)\u001b[49m\u001b[43m)\u001b[49m\n\u001b[1;32m    685\u001b[0m \u001b[38;5;28;01melse\u001b[39;00m:\n\u001b[1;32m    686\u001b[0m     \u001b[38;5;66;03m# We've 'bottomed out' - arrays is either a scalar or an array\u001b[39;00m\n\u001b[1;32m    687\u001b[0m     \u001b[38;5;66;03m# type(arrays) is not list\u001b[39;00m\n\u001b[1;32m    688\u001b[0m     \u001b[38;5;28;01mreturn\u001b[39;00m _atleast_nd(arrays, result_ndim)\n",
      "\u001b[0;31mValueError\u001b[0m: all the input array dimensions except for the concatenation axis must match exactly, but along dimension 1, the array at index 0 has size 5 and the array at index 1 has size 2"
     ]
    }
   ],
   "source": [
    "# Original comp_form function\n",
    "def comp_form_original(B):\n",
    "    m, p = B.shape\n",
    "    A = np.zeros((m * p, m * p))\n",
    "    A[:m, :p] = B  # Fill the top-left block with B\n",
    "\n",
    "    for i in range(m):\n",
    "        A[i + m : (i + m * (p - 1)), i] = np.eye(\n",
    "            m\n",
    "        )  # Fill the sub-diagonal blocks\n",
    "\n",
    "    return A\n",
    "\n",
    "\n",
    "# One-liner comp_form function\n",
    "def comp_form_oneliner(B):\n",
    "    return np.block(\n",
    "        [\n",
    "            [B] + [np.eye(B.shape[0])] * (B.shape[1] - 1),\n",
    "            [np.zeros((B.shape[0] * (B.shape[1] - 1), B.shape[1]))],\n",
    "        ]\n",
    "    )\n",
    "\n",
    "\n",
    "# Test code\n",
    "B = np.random.rand(3, 2)  # Random matrix B for testing\n",
    "\n",
    "#A_original = comp_form_original(B)\n",
    "A_oneliner = comp_form_oneliner(B)\n",
    "\n",
    "# Test if both methods return the same matrix\n",
    "if np.allclose(A_original, A_oneliner):\n",
    "    print(\"Both methods return the same matrix!\")\n",
    "else:\n",
    "    print(\"The matrices are different.\")\n",
    "\n",
    "# Optionally, print the matrices for comparison\n",
    "print(\"Original method output:\\n\", A_original)\n",
    "print(\"One-liner method output:\\n\", A_oneliner)"
   ]
  },
  {
   "cell_type": "code",
   "execution_count": 1,
   "metadata": {},
   "outputs": [
    {
     "name": "stdout",
     "output_type": "stream",
     "text": [
      "Valeur propre maximale : [1.16852985+0.j]\n",
      "Vecteur propre associé : [[-0.69858982+0.j]\n",
      " [ 0.57736961+0.j]\n",
      " [ 0.42263058+0.j]]\n"
     ]
    }
   ],
   "source": [
    "import numpy as np\n",
    "from scipy.sparse.linalg import eigs\n",
    "\n",
    "# Simulation de données\n",
    "np.random.seed(0)\n",
    "xTemp = np.random.randn(100, 5)  # Matrice 100x5\n",
    "lblock = np.array([True, False, True, False, True])  # Masque logique\n",
    "\n",
    "# Calcul de la matrice de covariance\n",
    "cov_matrix = np.cov(xTemp[:, lblock], rowvar=False)\n",
    "\n",
    "# Calcul de la plus grande valeur propre et vecteur propre\n",
    "eigenvalue, eigenvector = eigs(cov_matrix, k=1, which=\"LM\")\n",
    "\n",
    "# Affichage des résultats\n",
    "print(\"Valeur propre maximale :\", eigenvalue)\n",
    "print(\"Vecteur propre associé :\", eigenvector)"
   ]
  },
  {
   "cell_type": "code",
   "execution_count": 33,
   "metadata": {},
   "outputs": [
    {
     "name": "stdout",
     "output_type": "stream",
     "text": [
      "Matrice avant remplacement des NaN :\n",
      "[[ 1.  2. nan]\n",
      " [ 4. nan  6.]\n",
      " [nan  8.  9.]]\n",
      "Nombre de NaN avant remplacement : 3\n",
      "\n",
      "Matrice après remplacement des NaN :\n",
      "[[ 1.          2.         -1.40042436]\n",
      " [ 4.          1.82445151  6.        ]\n",
      " [ 1.36790865  8.          9.        ]]\n",
      "Nombre de NaN après remplacement : 0\n",
      "\n",
      "Test réussi : Tous les NaN ont été remplacés par des valeurs aléatoires.\n"
     ]
    }
   ],
   "source": [
    "import numpy as np\n",
    "\n",
    "\n",
    "def test_replace_nan():\n",
    "    # Créer une matrice X avec des valeurs NaN\n",
    "    X = np.array([[1, 2, np.nan], [4, np.nan, 6], [np.nan, 8, 9]], dtype=float)\n",
    "\n",
    "    # Afficher la matrice avant remplacement\n",
    "    print(\"Matrice avant remplacement des NaN :\")\n",
    "    print(X)\n",
    "\n",
    "    # Compter le nombre de NaN avant remplacement\n",
    "    nan_count_before = np.isnan(X).sum()\n",
    "    print(f\"Nombre de NaN avant remplacement : {nan_count_before}\")\n",
    "\n",
    "    # Remplacer les NaN par des valeurs tirées de N(0,1)\n",
    "    X[np.isnan(X)] = np.random.randn(np.isnan(X).sum())\n",
    "\n",
    "    # Afficher la matrice après remplacement\n",
    "    print(\"\\nMatrice après remplacement des NaN :\")\n",
    "    print(X)\n",
    "\n",
    "    # Compter le nombre de NaN après remplacement (devrait être 0)\n",
    "    nan_count_after = np.isnan(X).sum()\n",
    "    print(f\"Nombre de NaN après remplacement : {nan_count_after}\")\n",
    "\n",
    "    # Vérifier que tous les NaN ont été remplacés\n",
    "    assert nan_count_after == 0, \"Tous les NaN n'ont pas été remplacés.\"\n",
    "    print(\n",
    "        \"\\nTest réussi : Tous les NaN ont été remplacés par des valeurs aléatoires.\"\n",
    "    )\n",
    "\n",
    "\n",
    "# Exécuter le test\n",
    "test_replace_nan()"
   ]
  },
  {
   "cell_type": "code",
   "execution_count": 11,
   "metadata": {},
   "outputs": [
    {
     "data": {
      "text/plain": [
       "array([[0.36862928, 0.76161883, 0.63177529],\n",
       "       [1.        , 0.        , 0.        ],\n",
       "       [0.        , 1.        , 0.        ]])"
      ]
     },
     "execution_count": 11,
     "metadata": {},
     "output_type": "execute_result"
    }
   ],
   "source": [
    "m, p = 1, 3\n",
    "\n",
    "B = np.random.rand(m, m*p)\n",
    "\n",
    "A = np.vstack(\n",
    "    [\n",
    "        B,\n",
    "        np.hstack([np.eye(m * (p - 1)), np.zeros((m * (p - 1), m))]),\n",
    "    ]\n",
    ")\n",
    "\n",
    "A "
   ]
  },
  {
   "cell_type": "code",
   "execution_count": 7,
   "metadata": {},
   "outputs": [
    {
     "ename": "AssertionError",
     "evalue": "Expected [[3 4]\n [5 6]], but got [[3 4 1 2]\n [5 6 3 4]]",
     "output_type": "error",
     "traceback": [
      "\u001b[0;31m---------------------------------------------------------------------------\u001b[0m",
      "\u001b[0;31mAssertionError\u001b[0m                            Traceback (most recent call last)",
      "Cell \u001b[0;32mIn[7], line 28\u001b[0m\n\u001b[1;32m     22\u001b[0m     \u001b[38;5;28;01massert\u001b[39;00m np\u001b[38;5;241m.\u001b[39marray_equal(\n\u001b[1;32m     23\u001b[0m         result, expected_Z\n\u001b[1;32m     24\u001b[0m     ), \u001b[38;5;124mf\u001b[39m\u001b[38;5;124m\"\u001b[39m\u001b[38;5;124mExpected \u001b[39m\u001b[38;5;132;01m{\u001b[39;00mexpected_Z\u001b[38;5;132;01m}\u001b[39;00m\u001b[38;5;124m, but got \u001b[39m\u001b[38;5;132;01m{\u001b[39;00mresult\u001b[38;5;132;01m}\u001b[39;00m\u001b[38;5;124m\"\u001b[39m\n\u001b[1;32m     27\u001b[0m \u001b[38;5;66;03m# Exécution du test\u001b[39;00m\n\u001b[0;32m---> 28\u001b[0m \u001b[43mtest_stack_obs\u001b[49m\u001b[43m(\u001b[49m\u001b[43m)\u001b[49m\n\u001b[1;32m     29\u001b[0m \u001b[38;5;28mprint\u001b[39m(\u001b[38;5;124m\"\u001b[39m\u001b[38;5;124mTest passed!\u001b[39m\u001b[38;5;124m\"\u001b[39m)\n",
      "Cell \u001b[0;32mIn[7], line 22\u001b[0m, in \u001b[0;36mtest_stack_obs\u001b[0;34m()\u001b[0m\n\u001b[1;32m     19\u001b[0m result \u001b[38;5;241m=\u001b[39m stack_obs(z, p)\n\u001b[1;32m     21\u001b[0m \u001b[38;5;66;03m# Vérification\u001b[39;00m\n\u001b[0;32m---> 22\u001b[0m \u001b[38;5;28;01massert\u001b[39;00m np\u001b[38;5;241m.\u001b[39marray_equal(\n\u001b[1;32m     23\u001b[0m     result, expected_Z\n\u001b[1;32m     24\u001b[0m ), \u001b[38;5;124mf\u001b[39m\u001b[38;5;124m\"\u001b[39m\u001b[38;5;124mExpected \u001b[39m\u001b[38;5;132;01m{\u001b[39;00mexpected_Z\u001b[38;5;132;01m}\u001b[39;00m\u001b[38;5;124m, but got \u001b[39m\u001b[38;5;132;01m{\u001b[39;00mresult\u001b[38;5;132;01m}\u001b[39;00m\u001b[38;5;124m\"\u001b[39m\n",
      "\u001b[0;31mAssertionError\u001b[0m: Expected [[3 4]\n [5 6]], but got [[3 4 1 2]\n [5 6 3 4]]"
     ]
    }
   ],
   "source": [
    "import numpy as np\n",
    "\n",
    "# Fonction pour générer Z à partir de z\n",
    "stack_obs = lambda z, p: np.hstack(\n",
    "    [z[p - i - 1: -i - 1, :] for i in range(p)]\n",
    ")\n",
    "\n",
    "\n",
    "# Test\n",
    "def test_stack_obs():\n",
    "    # Exemple de données\n",
    "    z = np.array([[1, 2], [3, 4], [5, 6], [7, 8]])\n",
    "    p = 2  # Nombre de lags\n",
    "\n",
    "    # Résultat attendu\n",
    "    expected_Z = np.array([[3, 4], [5, 6]])\n",
    "\n",
    "    # Appel de la fonction\n",
    "    result = stack_obs(z, p)\n",
    "\n",
    "    # Vérification\n",
    "    assert np.array_equal(\n",
    "        result, expected_Z\n",
    "    ), f\"Expected {expected_Z}, but got {result}\"\n",
    "\n",
    "\n",
    "# Exécution du test\n",
    "test_stack_obs()\n",
    "print(\"Test passed!\")"
   ]
  },
  {
   "cell_type": "code",
   "execution_count": 8,
   "metadata": {},
   "outputs": [],
   "source": [
    "z = np.array([[1, 2], [3, 4], [5, 6], [7, 8]])\n",
    "p = 2  # Nombre de lags\n",
    "\n",
    "    # Résultat attendu\n",
    "expected_Z = np.array([[3, 4], [5, 6]])\n",
    "\n",
    "    # Appel de la fonction\n",
    "result = stack_obs(z, p)"
   ]
  },
  {
   "cell_type": "code",
   "execution_count": 4,
   "metadata": {},
   "outputs": [
    {
     "data": {
      "text/plain": [
       "(4, 2)"
      ]
     },
     "execution_count": 4,
     "metadata": {},
     "output_type": "execute_result"
    }
   ],
   "source": [
    "z.shape"
   ]
  },
  {
   "cell_type": "code",
   "execution_count": 3,
   "metadata": {},
   "outputs": [
    {
     "data": {
      "text/plain": [
       "array([[3, 4, 1, 2],\n",
       "       [5, 6, 3, 4]])"
      ]
     },
     "execution_count": 3,
     "metadata": {},
     "output_type": "execute_result"
    }
   ],
   "source": [
    "result"
   ]
  }
 ],
 "metadata": {
  "kernelspec": {
   "display_name": "mf_dfm",
   "language": "python",
   "name": "python3"
  },
  "language_info": {
   "codemirror_mode": {
    "name": "ipython",
    "version": 3
   },
   "file_extension": ".py",
   "mimetype": "text/x-python",
   "name": "python",
   "nbconvert_exporter": "python",
   "pygments_lexer": "ipython3",
   "version": "3.10.10"
  }
 },
 "nbformat": 4,
 "nbformat_minor": 2
}
