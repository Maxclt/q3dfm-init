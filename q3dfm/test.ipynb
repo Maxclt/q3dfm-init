{
 "cells": [
  {
   "cell_type": "code",
   "execution_count": 2,
   "metadata": {},
   "outputs": [
    {
     "name": "stdout",
     "output_type": "stream",
     "text": [
      "Approche 1: 3.478085994720459 secondes\n",
      "Approche 2: 3.4163570404052734 secondes\n"
     ]
    }
   ],
   "source": [
    "import numpy as np\n",
    "import time\n",
    "\n",
    "# Exemple de données\n",
    "lags = np.random.randint(\n",
    "    0, 100, size=100000000\n",
    ")  # Grand tableau pour tester les performances\n",
    "p = 1000\n",
    "\n",
    "# Approche 1 : Concaténation et maximum\n",
    "start_time = time.time()\n",
    "combined = np.concatenate((lags, [p]))\n",
    "pp1 = max(combined)\n",
    "time_approach_1 = time.time() - start_time\n",
    "\n",
    "# Approche 2 : Maximum direct\n",
    "start_time = time.time()\n",
    "max_lags = max(lags)\n",
    "pp2 = max(max_lags, p)\n",
    "time_approach_2 = time.time() - start_time\n",
    "\n",
    "print(f\"Approche 1: {time_approach_1} secondes\")\n",
    "print(f\"Approche 2: {time_approach_2} secondes\")"
   ]
  },
  {
   "cell_type": "code",
   "execution_count": 3,
   "metadata": {},
   "outputs": [
    {
     "data": {
      "text/plain": [
       "array([[[nan, nan, nan],\n",
       "        [nan, nan, nan]],\n",
       "\n",
       "       [[nan, nan, nan],\n",
       "        [nan, nan, nan]]])"
      ]
     },
     "execution_count": 3,
     "metadata": {},
     "output_type": "execute_result"
    }
   ],
   "source": [
    "np.full((2, 2, 3), np.nan)"
   ]
  }
 ],
 "metadata": {
  "kernelspec": {
   "display_name": "mf_dfm",
   "language": "python",
   "name": "python3"
  },
  "language_info": {
   "codemirror_mode": {
    "name": "ipython",
    "version": 3
   },
   "file_extension": ".py",
   "mimetype": "text/x-python",
   "name": "python",
   "nbconvert_exporter": "python",
   "pygments_lexer": "ipython3",
   "version": "3.9.19"
  }
 },
 "nbformat": 4,
 "nbformat_minor": 2
}
